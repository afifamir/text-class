{
  "nbformat": 4,
  "nbformat_minor": 0,
  "metadata": {
    "colab": {
      "provenance": [],
      "authorship_tag": "ABX9TyNOLHzybV40C9slbZQ56Gcd",
      "include_colab_link": true
    },
    "kernelspec": {
      "name": "python3",
      "display_name": "Python 3"
    },
    "language_info": {
      "name": "python"
    }
  },
  "cells": [
    {
      "cell_type": "markdown",
      "metadata": {
        "id": "view-in-github",
        "colab_type": "text"
      },
      "source": [
        "<a href=\"https://colab.research.google.com/github/afifamir/text-class/blob/main/text_classification_YelpReview.ipynb\" target=\"_parent\"><img src=\"https://colab.research.google.com/assets/colab-badge.svg\" alt=\"Open In Colab\"/></a>"
      ]
    },
    {
      "cell_type": "code",
      "execution_count": 2,
      "metadata": {
        "id": "VtDXMAiA4sn8"
      },
      "outputs": [],
      "source": [
        "!pip install -U portalocker>=2.0.0"
      ]
    },
    {
      "cell_type": "code",
      "source": [
        "import torch\n",
        "from torchtext.datasets import YelpReviewFull\n",
        "\n",
        "train_iter = iter(YelpReviewFull(split=\"train\"))"
      ],
      "metadata": {
        "id": "Utt4xGnd4vDR"
      },
      "execution_count": 1,
      "outputs": []
    },
    {
      "cell_type": "code",
      "source": [
        "YelpReviewFull"
      ],
      "metadata": {
        "colab": {
          "base_uri": "https://localhost:8080/"
        },
        "id": "zgUfMREx4vv-",
        "outputId": "5d59239d-1487-4c0c-842c-594c266d6dd9"
      },
      "execution_count": 2,
      "outputs": [
        {
          "output_type": "execute_result",
          "data": {
            "text/plain": [
              "<function torchtext.datasets.yelpreviewfull.YelpReviewFull(root: str = '.data', split: Union[Tuple[str], str] = ('train', 'test'))>"
            ]
          },
          "metadata": {},
          "execution_count": 2
        }
      ]
    },
    {
      "cell_type": "code",
      "source": [
        "train_iter"
      ],
      "metadata": {
        "colab": {
          "base_uri": "https://localhost:8080/"
        },
        "id": "9BehBEPo8xid",
        "outputId": "dff8e80a-8e0b-4778-e4ad-618a1bcf57a4"
      },
      "execution_count": 3,
      "outputs": [
        {
          "output_type": "execute_result",
          "data": {
            "text/plain": [
              "<generator object ShardingFilterIterDataPipe.__iter__ at 0x7c6a73fe4820>"
            ]
          },
          "metadata": {},
          "execution_count": 3
        }
      ]
    },
    {
      "cell_type": "code",
      "source": [
        "next(train_iter)"
      ],
      "metadata": {
        "colab": {
          "base_uri": "https://localhost:8080/"
        },
        "id": "CpSoWQ2w_NSm",
        "outputId": "51ab9bd6-a05c-45f6-f338-89f7391f8f06"
      },
      "execution_count": 4,
      "outputs": [
        {
          "output_type": "execute_result",
          "data": {
            "text/plain": [
              "(5,\n",
              " \"dr. goldberg offers everything i look for in a general practitioner.  he's nice and easy to talk to without being patronizing; he's always on time in seeing his patients; he's affiliated with a top-notch hospital (nyu) which my parents have explained to me is very important in case something happens and you need surgery; and you can get referrals to see specialists without having to see him first.  really, what more do you need?  i'm sitting here trying to think of any complaints i have about him, but i'm really drawing a blank.\")"
            ]
          },
          "metadata": {},
          "execution_count": 4
        }
      ]
    },
    {
      "cell_type": "code",
      "source": [
        "from torchtext.data.utils import get_tokenizer\n",
        "from torchtext.vocab import build_vocab_from_iterator\n",
        "\n",
        "tokenizer = get_tokenizer(\"basic_english\")\n",
        "\n",
        "def yield_tokens(data_iter):\n",
        "    for _, text in data_iter:\n",
        "        yield tokenizer(text)\n",
        "\n",
        "\n",
        "vocab = build_vocab_from_iterator(yield_tokens(train_iter), specials=[\"<unk>\"])\n",
        "vocab.set_default_index(vocab[\"<unk>\"])"
      ],
      "metadata": {
        "id": "XlfXlkp30lH8"
      },
      "execution_count": 5,
      "outputs": []
    },
    {
      "cell_type": "code",
      "source": [
        "text_pipeline = lambda x: vocab(tokenizer(x))\n",
        "label_pipeline = lambda x: int(x) - 1"
      ],
      "metadata": {
        "id": "MuECwVx11Tgz"
      },
      "execution_count": 15,
      "outputs": []
    },
    {
      "cell_type": "code",
      "source": [
        "text_pipeline('here is the an example')\n"
      ],
      "metadata": {
        "colab": {
          "base_uri": "https://localhost:8080/"
        },
        "id": "2_JGPGKh1x-y",
        "outputId": "04854632-2048-4aca-f1ae-9d4829b4dc36"
      },
      "execution_count": 16,
      "outputs": [
        {
          "output_type": "execute_result",
          "data": {
            "text/plain": [
              "[48, 14, 2, 68, 1985]"
            ]
          },
          "metadata": {},
          "execution_count": 16
        }
      ]
    },
    {
      "cell_type": "code",
      "source": [
        "label_pipeline('5')"
      ],
      "metadata": {
        "colab": {
          "base_uri": "https://localhost:8080/"
        },
        "id": "Gvl51SvX8KRQ",
        "outputId": "3cf678a0-6835-4e6a-8e5e-fff7685be48b"
      },
      "execution_count": 17,
      "outputs": [
        {
          "output_type": "execute_result",
          "data": {
            "text/plain": [
              "4"
            ]
          },
          "metadata": {},
          "execution_count": 17
        }
      ]
    },
    {
      "cell_type": "code",
      "execution_count": 19,
      "metadata": {
        "id": "IYN2Xxky5Z-y"
      },
      "outputs": [],
      "source": [
        "from torch.utils.data import DataLoader\n",
        "\n",
        "device = torch.device(\"cuda\" if torch.cuda.is_available() else \"cpu\")\n",
        "\n",
        "\n",
        "def collate_batch(batch):\n",
        "    label_list, text_list, offsets = [], [], [0]\n",
        "    for _label, _text in batch:\n",
        "        label_list.append(label_pipeline(_label))\n",
        "        processed_text = torch.tensor(text_pipeline(_text), dtype=torch.int64)\n",
        "        text_list.append(processed_text)\n",
        "        offsets.append(processed_text.size(0))\n",
        "    label_list = torch.tensor(label_list, dtype=torch.int64)\n",
        "    offsets = torch.tensor(offsets[:-1]).cumsum(dim=0)\n",
        "    text_list = torch.cat(text_list)\n",
        "    return label_list.to(device), text_list.to(device), offsets.to(device)\n",
        "\n",
        "\n",
        "dataloader = DataLoader(\n",
        "    train_iter, batch_size=8, shuffle=False, collate_fn=collate_batch\n",
        ")"
      ]
    },
    {
      "cell_type": "code",
      "source": [
        "from torch import nn\n",
        "\n",
        "\n",
        "class TextClassificationModel(nn.Module):\n",
        "    def __init__(self, vocab_size, embed_dim, num_class):\n",
        "        super(TextClassificationModel, self).__init__()\n",
        "        self.embedding = nn.EmbeddingBag(vocab_size, embed_dim, sparse=False)\n",
        "        self.fc = nn.Linear(embed_dim, num_class)\n",
        "        self.init_weights()\n",
        "\n",
        "    def init_weights(self):\n",
        "        initrange = 0.5\n",
        "        self.embedding.weight.data.uniform_(-initrange, initrange)\n",
        "        self.fc.weight.data.uniform_(-initrange, initrange)\n",
        "        self.fc.bias.data.zero_()\n",
        "\n",
        "    def forward(self, text, offsets):\n",
        "        embedded = self.embedding(text, offsets)\n",
        "        return self.fc(embedded)"
      ],
      "metadata": {
        "id": "NlDrgIsv1-VU"
      },
      "execution_count": 20,
      "outputs": []
    },
    {
      "cell_type": "code",
      "source": [
        "num_class = len(set([label for (label, text) in train_iter]))\n",
        "vocab_size = len(vocab)\n",
        "emsize = 64\n",
        "model = TextClassificationModel(vocab_size, emsize, num_class).to(device)"
      ],
      "metadata": {
        "id": "EIdvLasL2Bh9"
      },
      "execution_count": 21,
      "outputs": []
    },
    {
      "cell_type": "code",
      "source": [
        "vocab_size, num_class"
      ],
      "metadata": {
        "colab": {
          "base_uri": "https://localhost:8080/"
        },
        "id": "iTdg715Q2Hs7",
        "outputId": "c7109a1c-a0ae-425e-8e6f-f3f8446bc1d8"
      },
      "execution_count": 22,
      "outputs": [
        {
          "output_type": "execute_result",
          "data": {
            "text/plain": [
              "(519819, 5)"
            ]
          },
          "metadata": {},
          "execution_count": 22
        }
      ]
    },
    {
      "cell_type": "code",
      "execution_count": 23,
      "metadata": {
        "id": "SuKhDCXU5Z-z"
      },
      "outputs": [],
      "source": [
        "import time\n",
        "\n",
        "\n",
        "def train(dataloader):\n",
        "    model.train()\n",
        "    total_acc, total_count = 0, 0\n",
        "    log_interval = 500\n",
        "    start_time = time.time()\n",
        "\n",
        "    for idx, (label, text, offsets) in enumerate(dataloader):\n",
        "        optimizer.zero_grad()\n",
        "        predicted_label = model(text, offsets)\n",
        "        loss = criterion(predicted_label, label)\n",
        "        loss.backward()\n",
        "        torch.nn.utils.clip_grad_norm_(model.parameters(), 0.1)\n",
        "        optimizer.step()\n",
        "        total_acc += (predicted_label.argmax(1) == label).sum().item()\n",
        "        total_count += label.size(0)\n",
        "        if idx % log_interval == 0 and idx > 0:\n",
        "            elapsed = time.time() - start_time\n",
        "            print(\n",
        "                \"| epoch {:3d} | {:5d}/{:5d} batches \"\n",
        "                \"| accuracy {:8.3f}\".format(\n",
        "                    epoch, idx, len(dataloader), total_acc / total_count\n",
        "                )\n",
        "            )\n",
        "            total_acc, total_count = 0, 0\n",
        "            start_time = time.time()\n",
        "\n",
        "\n",
        "def evaluate(dataloader):\n",
        "    model.eval()\n",
        "    total_acc, total_count = 0, 0\n",
        "\n",
        "    with torch.no_grad():\n",
        "        for idx, (label, text, offsets) in enumerate(dataloader):\n",
        "            predicted_label = model(text, offsets)\n",
        "            loss = criterion(predicted_label, label)\n",
        "            total_acc += (predicted_label.argmax(1) == label).sum().item()\n",
        "            total_count += label.size(0)\n",
        "    return total_acc / total_count"
      ]
    },
    {
      "cell_type": "code",
      "execution_count": 24,
      "metadata": {
        "id": "4roqTMRp5Z-0",
        "colab": {
          "base_uri": "https://localhost:8080/"
        },
        "outputId": "6dbb761a-55a7-4007-eb52-ea29a6bdd28b"
      },
      "outputs": [
        {
          "output_type": "stream",
          "name": "stdout",
          "text": [
            "| epoch   1 |   500/ 9649 batches | accuracy    0.394\n",
            "| epoch   1 |  1000/ 9649 batches | accuracy    0.494\n",
            "| epoch   1 |  1500/ 9649 batches | accuracy    0.515\n",
            "| epoch   1 |  2000/ 9649 batches | accuracy    0.526\n",
            "| epoch   1 |  2500/ 9649 batches | accuracy    0.536\n",
            "| epoch   1 |  3000/ 9649 batches | accuracy    0.543\n",
            "| epoch   1 |  3500/ 9649 batches | accuracy    0.549\n",
            "| epoch   1 |  4000/ 9649 batches | accuracy    0.550\n",
            "| epoch   1 |  4500/ 9649 batches | accuracy    0.550\n",
            "| epoch   1 |  5000/ 9649 batches | accuracy    0.555\n",
            "| epoch   1 |  5500/ 9649 batches | accuracy    0.558\n",
            "| epoch   1 |  6000/ 9649 batches | accuracy    0.556\n",
            "| epoch   1 |  6500/ 9649 batches | accuracy    0.559\n",
            "| epoch   1 |  7000/ 9649 batches | accuracy    0.570\n",
            "| epoch   1 |  7500/ 9649 batches | accuracy    0.564\n",
            "| epoch   1 |  8000/ 9649 batches | accuracy    0.568\n",
            "| epoch   1 |  8500/ 9649 batches | accuracy    0.566\n",
            "| epoch   1 |  9000/ 9649 batches | accuracy    0.573\n",
            "| epoch   1 |  9500/ 9649 batches | accuracy    0.568\n",
            "-----------------------------------------------------------\n",
            "| end of epoch   1 | time: 1493.41s | valid accuracy    0.580 \n",
            "-----------------------------------------------------------\n",
            "| epoch   2 |   500/ 9649 batches | accuracy    0.570\n",
            "| epoch   2 |  1000/ 9649 batches | accuracy    0.569\n",
            "| epoch   2 |  1500/ 9649 batches | accuracy    0.577\n",
            "| epoch   2 |  2000/ 9649 batches | accuracy    0.573\n",
            "| epoch   2 |  2500/ 9649 batches | accuracy    0.574\n",
            "| epoch   2 |  3000/ 9649 batches | accuracy    0.574\n",
            "| epoch   2 |  3500/ 9649 batches | accuracy    0.580\n",
            "| epoch   2 |  4000/ 9649 batches | accuracy    0.579\n",
            "| epoch   2 |  4500/ 9649 batches | accuracy    0.575\n",
            "| epoch   2 |  5000/ 9649 batches | accuracy    0.574\n",
            "| epoch   2 |  5500/ 9649 batches | accuracy    0.577\n",
            "| epoch   2 |  6000/ 9649 batches | accuracy    0.576\n",
            "| epoch   2 |  6500/ 9649 batches | accuracy    0.579\n",
            "| epoch   2 |  7000/ 9649 batches | accuracy    0.581\n",
            "| epoch   2 |  7500/ 9649 batches | accuracy    0.574\n",
            "| epoch   2 |  8000/ 9649 batches | accuracy    0.582\n",
            "| epoch   2 |  8500/ 9649 batches | accuracy    0.582\n",
            "| epoch   2 |  9000/ 9649 batches | accuracy    0.578\n",
            "| epoch   2 |  9500/ 9649 batches | accuracy    0.581\n",
            "-----------------------------------------------------------\n",
            "| end of epoch   2 | time: 1502.78s | valid accuracy    0.583 \n",
            "-----------------------------------------------------------\n",
            "| epoch   3 |   500/ 9649 batches | accuracy    0.585\n",
            "| epoch   3 |  1000/ 9649 batches | accuracy    0.588\n",
            "| epoch   3 |  1500/ 9649 batches | accuracy    0.583\n",
            "| epoch   3 |  2000/ 9649 batches | accuracy    0.582\n",
            "| epoch   3 |  2500/ 9649 batches | accuracy    0.582\n",
            "| epoch   3 |  3000/ 9649 batches | accuracy    0.578\n",
            "| epoch   3 |  3500/ 9649 batches | accuracy    0.588\n",
            "| epoch   3 |  4000/ 9649 batches | accuracy    0.585\n",
            "| epoch   3 |  4500/ 9649 batches | accuracy    0.585\n",
            "| epoch   3 |  5000/ 9649 batches | accuracy    0.586\n",
            "| epoch   3 |  5500/ 9649 batches | accuracy    0.584\n",
            "| epoch   3 |  6000/ 9649 batches | accuracy    0.586\n",
            "| epoch   3 |  6500/ 9649 batches | accuracy    0.586\n",
            "| epoch   3 |  7000/ 9649 batches | accuracy    0.586\n",
            "| epoch   3 |  7500/ 9649 batches | accuracy    0.586\n",
            "| epoch   3 |  8000/ 9649 batches | accuracy    0.587\n",
            "| epoch   3 |  8500/ 9649 batches | accuracy    0.587\n",
            "| epoch   3 |  9000/ 9649 batches | accuracy    0.589\n",
            "| epoch   3 |  9500/ 9649 batches | accuracy    0.587\n",
            "-----------------------------------------------------------\n",
            "| end of epoch   3 | time: 1508.90s | valid accuracy    0.573 \n",
            "-----------------------------------------------------------\n",
            "| epoch   4 |   500/ 9649 batches | accuracy    0.602\n",
            "| epoch   4 |  1000/ 9649 batches | accuracy    0.610\n",
            "| epoch   4 |  1500/ 9649 batches | accuracy    0.605\n",
            "| epoch   4 |  2000/ 9649 batches | accuracy    0.609\n",
            "| epoch   4 |  2500/ 9649 batches | accuracy    0.609\n",
            "| epoch   4 |  3000/ 9649 batches | accuracy    0.610\n",
            "| epoch   4 |  3500/ 9649 batches | accuracy    0.605\n",
            "| epoch   4 |  4000/ 9649 batches | accuracy    0.606\n",
            "| epoch   4 |  4500/ 9649 batches | accuracy    0.600\n",
            "| epoch   4 |  5000/ 9649 batches | accuracy    0.604\n",
            "| epoch   4 |  5500/ 9649 batches | accuracy    0.604\n",
            "| epoch   4 |  6000/ 9649 batches | accuracy    0.607\n",
            "| epoch   4 |  6500/ 9649 batches | accuracy    0.605\n",
            "| epoch   4 |  7000/ 9649 batches | accuracy    0.607\n",
            "| epoch   4 |  7500/ 9649 batches | accuracy    0.607\n",
            "| epoch   4 |  8000/ 9649 batches | accuracy    0.604\n",
            "| epoch   4 |  8500/ 9649 batches | accuracy    0.604\n",
            "| epoch   4 |  9000/ 9649 batches | accuracy    0.607\n",
            "| epoch   4 |  9500/ 9649 batches | accuracy    0.603\n",
            "-----------------------------------------------------------\n",
            "| end of epoch   4 | time: 1501.56s | valid accuracy    0.599 \n",
            "-----------------------------------------------------------\n",
            "| epoch   5 |   500/ 9649 batches | accuracy    0.601\n",
            "| epoch   5 |  1000/ 9649 batches | accuracy    0.610\n",
            "| epoch   5 |  1500/ 9649 batches | accuracy    0.610\n",
            "| epoch   5 |  2000/ 9649 batches | accuracy    0.607\n",
            "| epoch   5 |  2500/ 9649 batches | accuracy    0.601\n",
            "| epoch   5 |  3000/ 9649 batches | accuracy    0.603\n",
            "| epoch   5 |  3500/ 9649 batches | accuracy    0.607\n",
            "| epoch   5 |  4000/ 9649 batches | accuracy    0.608\n",
            "| epoch   5 |  4500/ 9649 batches | accuracy    0.609\n",
            "| epoch   5 |  5000/ 9649 batches | accuracy    0.611\n",
            "| epoch   5 |  5500/ 9649 batches | accuracy    0.604\n",
            "| epoch   5 |  6000/ 9649 batches | accuracy    0.606\n",
            "| epoch   5 |  6500/ 9649 batches | accuracy    0.607\n",
            "| epoch   5 |  7000/ 9649 batches | accuracy    0.604\n",
            "| epoch   5 |  7500/ 9649 batches | accuracy    0.606\n",
            "| epoch   5 |  8000/ 9649 batches | accuracy    0.607\n",
            "| epoch   5 |  8500/ 9649 batches | accuracy    0.606\n",
            "| epoch   5 |  9000/ 9649 batches | accuracy    0.606\n",
            "| epoch   5 |  9500/ 9649 batches | accuracy    0.608\n",
            "-----------------------------------------------------------\n",
            "| end of epoch   5 | time: 1490.61s | valid accuracy    0.604 \n",
            "-----------------------------------------------------------\n",
            "| epoch   6 |   500/ 9649 batches | accuracy    0.605\n",
            "| epoch   6 |  1000/ 9649 batches | accuracy    0.604\n",
            "| epoch   6 |  1500/ 9649 batches | accuracy    0.606\n",
            "| epoch   6 |  2000/ 9649 batches | accuracy    0.608\n",
            "| epoch   6 |  2500/ 9649 batches | accuracy    0.610\n",
            "| epoch   6 |  3000/ 9649 batches | accuracy    0.607\n",
            "| epoch   6 |  3500/ 9649 batches | accuracy    0.604\n",
            "| epoch   6 |  4000/ 9649 batches | accuracy    0.604\n",
            "| epoch   6 |  4500/ 9649 batches | accuracy    0.613\n",
            "| epoch   6 |  5000/ 9649 batches | accuracy    0.605\n",
            "| epoch   6 |  5500/ 9649 batches | accuracy    0.607\n",
            "| epoch   6 |  6000/ 9649 batches | accuracy    0.611\n",
            "| epoch   6 |  6500/ 9649 batches | accuracy    0.613\n",
            "| epoch   6 |  7000/ 9649 batches | accuracy    0.604\n",
            "| epoch   6 |  7500/ 9649 batches | accuracy    0.609\n",
            "| epoch   6 |  8000/ 9649 batches | accuracy    0.611\n",
            "| epoch   6 |  8500/ 9649 batches | accuracy    0.609\n",
            "| epoch   6 |  9000/ 9649 batches | accuracy    0.609\n",
            "| epoch   6 |  9500/ 9649 batches | accuracy    0.602\n",
            "-----------------------------------------------------------\n",
            "| end of epoch   6 | time: 1466.39s | valid accuracy    0.606 \n",
            "-----------------------------------------------------------\n",
            "| epoch   7 |   500/ 9649 batches | accuracy    0.609\n",
            "| epoch   7 |  1000/ 9649 batches | accuracy    0.611\n",
            "| epoch   7 |  1500/ 9649 batches | accuracy    0.608\n",
            "| epoch   7 |  2000/ 9649 batches | accuracy    0.608\n",
            "| epoch   7 |  2500/ 9649 batches | accuracy    0.610\n",
            "| epoch   7 |  3000/ 9649 batches | accuracy    0.608\n",
            "| epoch   7 |  3500/ 9649 batches | accuracy    0.610\n",
            "| epoch   7 |  4000/ 9649 batches | accuracy    0.610\n",
            "| epoch   7 |  4500/ 9649 batches | accuracy    0.610\n",
            "| epoch   7 |  5000/ 9649 batches | accuracy    0.604\n",
            "| epoch   7 |  5500/ 9649 batches | accuracy    0.607\n",
            "| epoch   7 |  6000/ 9649 batches | accuracy    0.609\n",
            "| epoch   7 |  6500/ 9649 batches | accuracy    0.607\n",
            "| epoch   7 |  7000/ 9649 batches | accuracy    0.607\n",
            "| epoch   7 |  7500/ 9649 batches | accuracy    0.607\n",
            "| epoch   7 |  8000/ 9649 batches | accuracy    0.603\n",
            "| epoch   7 |  8500/ 9649 batches | accuracy    0.608\n",
            "| epoch   7 |  9000/ 9649 batches | accuracy    0.609\n",
            "| epoch   7 |  9500/ 9649 batches | accuracy    0.612\n",
            "-----------------------------------------------------------\n",
            "| end of epoch   7 | time: 1478.29s | valid accuracy    0.606 \n",
            "-----------------------------------------------------------\n",
            "| epoch   8 |   500/ 9649 batches | accuracy    0.610\n",
            "| epoch   8 |  1000/ 9649 batches | accuracy    0.607\n",
            "| epoch   8 |  1500/ 9649 batches | accuracy    0.611\n",
            "| epoch   8 |  2000/ 9649 batches | accuracy    0.610\n",
            "| epoch   8 |  2500/ 9649 batches | accuracy    0.609\n",
            "| epoch   8 |  3000/ 9649 batches | accuracy    0.614\n",
            "| epoch   8 |  3500/ 9649 batches | accuracy    0.607\n",
            "| epoch   8 |  4000/ 9649 batches | accuracy    0.609\n",
            "| epoch   8 |  4500/ 9649 batches | accuracy    0.610\n",
            "| epoch   8 |  5000/ 9649 batches | accuracy    0.608\n",
            "| epoch   8 |  5500/ 9649 batches | accuracy    0.607\n",
            "| epoch   8 |  6000/ 9649 batches | accuracy    0.613\n",
            "| epoch   8 |  6500/ 9649 batches | accuracy    0.609\n",
            "| epoch   8 |  7000/ 9649 batches | accuracy    0.608\n",
            "| epoch   8 |  7500/ 9649 batches | accuracy    0.608\n",
            "| epoch   8 |  8000/ 9649 batches | accuracy    0.610\n",
            "| epoch   8 |  8500/ 9649 batches | accuracy    0.609\n",
            "| epoch   8 |  9000/ 9649 batches | accuracy    0.602\n",
            "| epoch   8 |  9500/ 9649 batches | accuracy    0.612\n",
            "-----------------------------------------------------------\n",
            "| end of epoch   8 | time: 1472.69s | valid accuracy    0.606 \n",
            "-----------------------------------------------------------\n",
            "| epoch   9 |   500/ 9649 batches | accuracy    0.608\n",
            "| epoch   9 |  1000/ 9649 batches | accuracy    0.612\n",
            "| epoch   9 |  1500/ 9649 batches | accuracy    0.613\n",
            "| epoch   9 |  2000/ 9649 batches | accuracy    0.614\n",
            "| epoch   9 |  2500/ 9649 batches | accuracy    0.611\n",
            "| epoch   9 |  3000/ 9649 batches | accuracy    0.607\n",
            "| epoch   9 |  3500/ 9649 batches | accuracy    0.609\n",
            "| epoch   9 |  4000/ 9649 batches | accuracy    0.609\n",
            "| epoch   9 |  4500/ 9649 batches | accuracy    0.612\n",
            "| epoch   9 |  5000/ 9649 batches | accuracy    0.615\n",
            "| epoch   9 |  5500/ 9649 batches | accuracy    0.615\n",
            "| epoch   9 |  6000/ 9649 batches | accuracy    0.608\n",
            "| epoch   9 |  6500/ 9649 batches | accuracy    0.610\n",
            "| epoch   9 |  7000/ 9649 batches | accuracy    0.611\n",
            "| epoch   9 |  7500/ 9649 batches | accuracy    0.611\n",
            "| epoch   9 |  8000/ 9649 batches | accuracy    0.610\n",
            "| epoch   9 |  8500/ 9649 batches | accuracy    0.611\n",
            "| epoch   9 |  9000/ 9649 batches | accuracy    0.613\n",
            "| epoch   9 |  9500/ 9649 batches | accuracy    0.612\n",
            "-----------------------------------------------------------\n",
            "| end of epoch   9 | time: 1473.93s | valid accuracy    0.607 \n",
            "-----------------------------------------------------------\n",
            "| epoch  10 |   500/ 9649 batches | accuracy    0.612\n",
            "| epoch  10 |  1000/ 9649 batches | accuracy    0.612\n",
            "| epoch  10 |  1500/ 9649 batches | accuracy    0.614\n",
            "| epoch  10 |  2000/ 9649 batches | accuracy    0.610\n",
            "| epoch  10 |  2500/ 9649 batches | accuracy    0.609\n",
            "| epoch  10 |  3000/ 9649 batches | accuracy    0.612\n",
            "| epoch  10 |  3500/ 9649 batches | accuracy    0.610\n",
            "| epoch  10 |  4000/ 9649 batches | accuracy    0.608\n",
            "| epoch  10 |  4500/ 9649 batches | accuracy    0.612\n",
            "| epoch  10 |  5000/ 9649 batches | accuracy    0.614\n",
            "| epoch  10 |  5500/ 9649 batches | accuracy    0.613\n",
            "| epoch  10 |  6000/ 9649 batches | accuracy    0.613\n",
            "| epoch  10 |  6500/ 9649 batches | accuracy    0.610\n",
            "| epoch  10 |  7000/ 9649 batches | accuracy    0.609\n",
            "| epoch  10 |  7500/ 9649 batches | accuracy    0.608\n",
            "| epoch  10 |  8000/ 9649 batches | accuracy    0.614\n",
            "| epoch  10 |  8500/ 9649 batches | accuracy    0.614\n",
            "| epoch  10 |  9000/ 9649 batches | accuracy    0.608\n",
            "| epoch  10 |  9500/ 9649 batches | accuracy    0.611\n",
            "-----------------------------------------------------------\n",
            "| end of epoch  10 | time: 1475.92s | valid accuracy    0.608 \n",
            "-----------------------------------------------------------\n"
          ]
        }
      ],
      "source": [
        "from torch.utils.data.dataset import random_split\n",
        "from torchtext.data.functional import to_map_style_dataset\n",
        "\n",
        "# Hyperparameters\n",
        "EPOCHS = 10  # epoch\n",
        "LR = 5  # learning rate\n",
        "BATCH_SIZE = 64  # batch size for training\n",
        "\n",
        "criterion = torch.nn.CrossEntropyLoss()\n",
        "optimizer = torch.optim.SGD(model.parameters(), lr=LR)\n",
        "scheduler = torch.optim.lr_scheduler.StepLR(optimizer, 1.0, gamma=0.1)\n",
        "total_accu = None\n",
        "train_iter, test_iter = YelpReviewFull()\n",
        "train_dataset = to_map_style_dataset(train_iter)\n",
        "test_dataset = to_map_style_dataset(test_iter)\n",
        "num_train = int(len(train_dataset) * 0.95)\n",
        "split_train_, split_valid_ = random_split(\n",
        "    train_dataset, [num_train, len(train_dataset) - num_train]\n",
        ")\n",
        "\n",
        "train_dataloader = DataLoader(\n",
        "    split_train_, batch_size=BATCH_SIZE, shuffle=True, collate_fn=collate_batch\n",
        ")\n",
        "valid_dataloader = DataLoader(\n",
        "    split_valid_, batch_size=BATCH_SIZE, shuffle=True, collate_fn=collate_batch\n",
        ")\n",
        "test_dataloader = DataLoader(\n",
        "    test_dataset, batch_size=BATCH_SIZE, shuffle=True, collate_fn=collate_batch\n",
        ")\n",
        "\n",
        "for epoch in range(1, EPOCHS + 1):\n",
        "    epoch_start_time = time.time()\n",
        "    train(train_dataloader)\n",
        "    accu_val = evaluate(valid_dataloader)\n",
        "    if total_accu is not None and total_accu > accu_val:\n",
        "        scheduler.step()\n",
        "    else:\n",
        "        total_accu = accu_val\n",
        "    print(\"-\" * 59)\n",
        "    print(\n",
        "        \"| end of epoch {:3d} | time: {:5.2f}s | \"\n",
        "        \"valid accuracy {:8.3f} \".format(\n",
        "            epoch, time.time() - epoch_start_time, accu_val\n",
        "        )\n",
        "    )\n",
        "    print(\"-\" * 59)"
      ]
    },
    {
      "cell_type": "code",
      "source": [
        "print(\"Checking the results of test dataset.\")\n",
        "accu_test = evaluate(test_dataloader)\n",
        "print(\"test accuracy {:8.3f}\".format(accu_test))"
      ],
      "metadata": {
        "colab": {
          "base_uri": "https://localhost:8080/"
        },
        "id": "qV4mRqgq2Uvu",
        "outputId": "a47ae923-7338-4be5-903d-9346e84fd5ab"
      },
      "execution_count": 26,
      "outputs": [
        {
          "output_type": "stream",
          "name": "stdout",
          "text": [
            "Checking the results of test dataset.\n",
            "test accuracy    0.598\n"
          ]
        }
      ]
    }
  ]
}